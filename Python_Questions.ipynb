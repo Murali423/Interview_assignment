{
 "cells": [
  {
   "cell_type": "markdown",
   "id": "6f30307a",
   "metadata": {},
   "source": [
    "__Question 1: -\n",
    "Write a program that takes a string as input, and counts the frequency of each word in the string, there might\n",
    "be repeated characters in the string. Your task is to find the highest frequency and returns the length of the\n",
    "highest-frequency word.__"
   ]
  },
  {
   "cell_type": "code",
   "execution_count": 24,
   "id": "4b8b9fed",
   "metadata": {},
   "outputs": [],
   "source": [
    "from collections import Counter\n",
    "def freq_len(s:str)-> int:\n",
    "    if len(s) == 0:\n",
    "        return None\n",
    "    s = s.split()  # split the given string\n",
    "    frequency = Counter(s)  # from collection.counter get the frequency of each word \n",
    "    mc = frequency.most_common(2) #get the most frequent we are getting 2  \n",
    "    tmp = []\n",
    "    for i in range(len(mc)):\n",
    "        tmp.append(len(mc[i][0]))\n",
    "    return max(tmp)  # retruning the maxlength of frequent item\n",
    "        \n",
    "        "
   ]
  },
  {
   "cell_type": "code",
   "execution_count": 25,
   "id": "6a6d1c6f",
   "metadata": {},
   "outputs": [
    {
     "name": "stdout",
     "output_type": "stream",
     "text": [
      "5\n",
      "None\n",
      "7\n",
      "3\n"
     ]
    }
   ],
   "source": [
    "#testcase\n",
    "print(freq_len(\"write write write all the number from from from 1 to 100\"))\n",
    "print(freq_len(\"\"))\n",
    "print(freq_len(\"iNeuron iNeuron iNeuron iNeuron iNeuron iNeuron\"))\n",
    "print(freq_len(\"abc acd dca gagds age sage\"))"
   ]
  },
  {
   "cell_type": "code",
   "execution_count": null,
   "id": "940488d7",
   "metadata": {},
   "outputs": [],
   "source": []
  }
 ],
 "metadata": {
  "kernelspec": {
   "display_name": "Python 3 (ipykernel)",
   "language": "python",
   "name": "python3"
  },
  "language_info": {
   "codemirror_mode": {
    "name": "ipython",
    "version": 3
   },
   "file_extension": ".py",
   "mimetype": "text/x-python",
   "name": "python",
   "nbconvert_exporter": "python",
   "pygments_lexer": "ipython3",
   "version": "3.9.13"
  }
 },
 "nbformat": 4,
 "nbformat_minor": 5
}
