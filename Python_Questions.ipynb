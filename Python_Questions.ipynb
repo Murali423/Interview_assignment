{
 "cells": [
  {
   "cell_type": "markdown",
   "id": "6f30307a",
   "metadata": {},
   "source": [
    "__Question 1: -\n",
    "Write a program that takes a string as input, and counts the frequency of each word in the string, there might\n",
    "be repeated characters in the string. Your task is to find the highest frequency and returns the length of the\n",
    "highest-frequency word.__"
   ]
  },
  {
   "cell_type": "code",
   "execution_count": 1,
   "id": "4b8b9fed",
   "metadata": {},
   "outputs": [],
   "source": [
    "from collections import Counter\n",
    "def freq_len(s:str)-> int:\n",
    "    if len(s) == 0:\n",
    "        return None\n",
    "    s = s.split()  # split the given string\n",
    "    frequency = Counter(s)  # from collection.counter get the frequency of each word \n",
    "    mc = frequency.most_common(2) #get the most frequent we are getting 2  \n",
    "    tmp = []\n",
    "    for i in range(len(mc)):\n",
    "        tmp.append(len(mc[i][0]))\n",
    "    return max(tmp)  # retruning the maxlength of frequent item\n",
    "        \n",
    "        "
   ]
  },
  {
   "cell_type": "code",
   "execution_count": 2,
   "id": "6a6d1c6f",
   "metadata": {},
   "outputs": [
    {
     "name": "stdout",
     "output_type": "stream",
     "text": [
      "5\n",
      "None\n",
      "7\n",
      "3\n"
     ]
    }
   ],
   "source": [
    "#testcase\n",
    "print(freq_len(\"write write write all the number from from from 1 to 100\"))\n",
    "print(freq_len(\"\"))\n",
    "print(freq_len(\"iNeuron iNeuron iNeuron iNeuron iNeuron iNeuron\"))\n",
    "print(freq_len(\"abc acd dca gagds age sage\"))"
   ]
  },
  {
   "cell_type": "markdown",
   "id": "cfae8bb4",
   "metadata": {},
   "source": [
    "__Q2.Consider a string to be valid if all characters of the string appear the same number of times. It is also valid if\n",
    "he can remove just one character at the index in the string, and the remaining characters will occur the same\n",
    "number of times. Given a string, determine if it is valid. If so, return YES , otherwise return NO .__"
   ]
  },
  {
   "cell_type": "code",
   "execution_count": 3,
   "id": "0999716e",
   "metadata": {},
   "outputs": [],
   "source": [
    "from typing import List\n",
    "def isValidStr(s:str)->bool:\n",
    "    cnt = Counter([*s]) # checking the cound\n",
    "    print(dict(cnt))\n",
    "    freq = list(cnt.values())  # getting the frequecy of word\n",
    "    print(freq)\n",
    "    if all(i==freq[0] for i in freq):  # checking the length of set and list ensure given string is valid\n",
    "        return 'YES'\n",
    "    else:\n",
    "        return 'NO'"
   ]
  },
  {
   "cell_type": "code",
   "execution_count": 4,
   "id": "65c73c81",
   "metadata": {},
   "outputs": [
    {
     "name": "stdout",
     "output_type": "stream",
     "text": [
      "{'a': 1, 'b': 1, 'c': 1}\n",
      "[1, 1, 1]\n",
      "YES\n"
     ]
    }
   ],
   "source": [
    "print(isValidStr('abc'))"
   ]
  },
  {
   "cell_type": "code",
   "execution_count": 5,
   "id": "0b5f2626",
   "metadata": {},
   "outputs": [
    {
     "name": "stdout",
     "output_type": "stream",
     "text": [
      "{'a': 1, 'b': 1, 'c': 2}\n",
      "[1, 1, 2]\n",
      "NO\n"
     ]
    }
   ],
   "source": [
    "print(isValidStr('abcc'))"
   ]
  },
  {
   "cell_type": "code",
   "execution_count": 6,
   "id": "d8628c23",
   "metadata": {},
   "outputs": [
    {
     "name": "stdout",
     "output_type": "stream",
     "text": [
      "{'a': 4, 'b': 4, 'c': 4}\n",
      "[4, 4, 4]\n",
      "YES\n"
     ]
    }
   ],
   "source": [
    "print(isValidStr('aaaabbbbcccc'))"
   ]
  },
  {
   "cell_type": "code",
   "execution_count": 7,
   "id": "5842e4b1",
   "metadata": {},
   "outputs": [
    {
     "name": "stdout",
     "output_type": "stream",
     "text": [
      "{'a': 4, 'b': 4, 'd': 2, 'c': 4}\n",
      "[4, 4, 2, 4]\n",
      "NO\n"
     ]
    }
   ],
   "source": [
    "print(isValidStr('aaaabbbbddcccc'))"
   ]
  },
  {
   "cell_type": "code",
   "execution_count": null,
   "id": "257f79bc",
   "metadata": {},
   "outputs": [],
   "source": []
  },
  {
   "cell_type": "markdown",
   "id": "df785e7d",
   "metadata": {},
   "source": [
    "__Q3.Write a program, which would download the data from the provided link, and then read the data and convert\n",
    "that into properly structured data and return it in Excel format.\n",
    "Note - Write comments wherever necessary explaining the code written.\n",
    "Link - https://raw.githubusercontent.com/Biuni/PokemonGO-Pokedex/master/pokedex.json__"
   ]
  },
  {
   "cell_type": "markdown",
   "id": "135e690b",
   "metadata": {},
   "source": [
    "__URL is not working__"
   ]
  },
  {
   "cell_type": "markdown",
   "id": "188f0baa",
   "metadata": {},
   "source": [
    "__Question 4 -\n",
    "Write a program to download the data from the link given below and then read the data and convert the into\n",
    "the proper structure and return it as a CSV file.\n",
    "Link - https://data.nasa.gov/resource/y77d-th95.json__"
   ]
  },
  {
   "cell_type": "code",
   "execution_count": 14,
   "id": "bc8b76e0",
   "metadata": {},
   "outputs": [
    {
     "data": {
      "text/plain": [
       "name                             0\n",
       "id                               0\n",
       "nametype                         0\n",
       "recclass                         0\n",
       "mass                            28\n",
       "fall                             0\n",
       "year                             1\n",
       "reclat                          12\n",
       "reclong                         12\n",
       "geolocation                     12\n",
       ":@computed_region_cbhk_fwbd    867\n",
       ":@computed_region_nnqa_25f4    866\n",
       "dtype: int64"
      ]
     },
     "execution_count": 14,
     "metadata": {},
     "output_type": "execute_result"
    }
   ],
   "source": [
    "import pandas as pd\n",
    "import os\n",
    "\n",
    "c = pd.read_json('https://data.nasa.gov/resource/y77d-th95.json')  # imported the json data into dataframe\n",
    "c.isnull().sum()"
   ]
  },
  {
   "cell_type": "code",
   "execution_count": 15,
   "id": "9ed623c8",
   "metadata": {},
   "outputs": [
    {
     "data": {
      "text/html": [
       "<div>\n",
       "<style scoped>\n",
       "    .dataframe tbody tr th:only-of-type {\n",
       "        vertical-align: middle;\n",
       "    }\n",
       "\n",
       "    .dataframe tbody tr th {\n",
       "        vertical-align: top;\n",
       "    }\n",
       "\n",
       "    .dataframe thead th {\n",
       "        text-align: right;\n",
       "    }\n",
       "</style>\n",
       "<table border=\"1\" class=\"dataframe\">\n",
       "  <thead>\n",
       "    <tr style=\"text-align: right;\">\n",
       "      <th></th>\n",
       "      <th>name</th>\n",
       "      <th>id</th>\n",
       "      <th>nametype</th>\n",
       "      <th>recclass</th>\n",
       "      <th>mass</th>\n",
       "      <th>fall</th>\n",
       "      <th>year</th>\n",
       "      <th>reclat</th>\n",
       "      <th>reclong</th>\n",
       "      <th>geolocation</th>\n",
       "    </tr>\n",
       "  </thead>\n",
       "  <tbody>\n",
       "    <tr>\n",
       "      <th>0</th>\n",
       "      <td>Aachen</td>\n",
       "      <td>1</td>\n",
       "      <td>Valid</td>\n",
       "      <td>L5</td>\n",
       "      <td>21.0</td>\n",
       "      <td>Fell</td>\n",
       "      <td>1880-01-01T00:00:00.000</td>\n",
       "      <td>50.77500</td>\n",
       "      <td>6.08333</td>\n",
       "      <td>{'type': 'Point', 'coordinates': [6.08333, 50....</td>\n",
       "    </tr>\n",
       "    <tr>\n",
       "      <th>1</th>\n",
       "      <td>Aarhus</td>\n",
       "      <td>2</td>\n",
       "      <td>Valid</td>\n",
       "      <td>H6</td>\n",
       "      <td>720.0</td>\n",
       "      <td>Fell</td>\n",
       "      <td>1951-01-01T00:00:00.000</td>\n",
       "      <td>56.18333</td>\n",
       "      <td>10.23333</td>\n",
       "      <td>{'type': 'Point', 'coordinates': [10.23333, 56...</td>\n",
       "    </tr>\n",
       "    <tr>\n",
       "      <th>2</th>\n",
       "      <td>Abee</td>\n",
       "      <td>6</td>\n",
       "      <td>Valid</td>\n",
       "      <td>EH4</td>\n",
       "      <td>107000.0</td>\n",
       "      <td>Fell</td>\n",
       "      <td>1952-01-01T00:00:00.000</td>\n",
       "      <td>54.21667</td>\n",
       "      <td>-113.00000</td>\n",
       "      <td>{'type': 'Point', 'coordinates': [-113, 54.216...</td>\n",
       "    </tr>\n",
       "    <tr>\n",
       "      <th>3</th>\n",
       "      <td>Acapulco</td>\n",
       "      <td>10</td>\n",
       "      <td>Valid</td>\n",
       "      <td>Acapulcoite</td>\n",
       "      <td>1914.0</td>\n",
       "      <td>Fell</td>\n",
       "      <td>1976-01-01T00:00:00.000</td>\n",
       "      <td>16.88333</td>\n",
       "      <td>-99.90000</td>\n",
       "      <td>{'type': 'Point', 'coordinates': [-99.9, 16.88...</td>\n",
       "    </tr>\n",
       "    <tr>\n",
       "      <th>4</th>\n",
       "      <td>Achiras</td>\n",
       "      <td>370</td>\n",
       "      <td>Valid</td>\n",
       "      <td>L6</td>\n",
       "      <td>780.0</td>\n",
       "      <td>Fell</td>\n",
       "      <td>1902-01-01T00:00:00.000</td>\n",
       "      <td>-33.16667</td>\n",
       "      <td>-64.95000</td>\n",
       "      <td>{'type': 'Point', 'coordinates': [-64.95, -33....</td>\n",
       "    </tr>\n",
       "  </tbody>\n",
       "</table>\n",
       "</div>"
      ],
      "text/plain": [
       "       name   id nametype  ...    reclat    reclong                                        geolocation\n",
       "0    Aachen    1    Valid  ...  50.77500    6.08333  {'type': 'Point', 'coordinates': [6.08333, 50....\n",
       "1    Aarhus    2    Valid  ...  56.18333   10.23333  {'type': 'Point', 'coordinates': [10.23333, 56...\n",
       "2      Abee    6    Valid  ...  54.21667 -113.00000  {'type': 'Point', 'coordinates': [-113, 54.216...\n",
       "3  Acapulco   10    Valid  ...  16.88333  -99.90000  {'type': 'Point', 'coordinates': [-99.9, 16.88...\n",
       "4   Achiras  370    Valid  ... -33.16667  -64.95000  {'type': 'Point', 'coordinates': [-64.95, -33....\n",
       "\n",
       "[5 rows x 10 columns]"
      ]
     },
     "execution_count": 15,
     "metadata": {},
     "output_type": "execute_result"
    }
   ],
   "source": [
    "c = c.drop([':@computed_region_cbhk_fwbd',':@computed_region_nnqa_25f4'],axis=1)\n",
    "c.head()"
   ]
  },
  {
   "cell_type": "code",
   "execution_count": 16,
   "id": "eddbeb6d",
   "metadata": {},
   "outputs": [],
   "source": [
    "c.to_csv('geo.csv')"
   ]
  },
  {
   "cell_type": "code",
   "execution_count": null,
   "id": "51601307",
   "metadata": {},
   "outputs": [],
   "source": []
  }
 ],
 "metadata": {
  "kernelspec": {
   "display_name": "Python 3 (ipykernel)",
   "language": "python",
   "name": "python3"
  },
  "language_info": {
   "codemirror_mode": {
    "name": "ipython",
    "version": 3
   },
   "file_extension": ".py",
   "mimetype": "text/x-python",
   "name": "python",
   "nbconvert_exporter": "python",
   "pygments_lexer": "ipython3",
   "version": "3.9.13"
  }
 },
 "nbformat": 4,
 "nbformat_minor": 5
}
